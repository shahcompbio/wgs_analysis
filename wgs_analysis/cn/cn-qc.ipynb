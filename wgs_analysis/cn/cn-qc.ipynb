{
 "cells": [
  {
   "cell_type": "markdown",
   "id": "421d8d23-297d-433c-b4c8-9197869305f2",
   "metadata": {},
   "source": [
    "# Settings"
   ]
  },
  {
   "cell_type": "code",
   "execution_count": null,
   "id": "c84675e4-387e-4809-8606-270a1cce78ca",
   "metadata": {},
   "outputs": [],
   "source": [
    "# import shahlabdata.wgs\n",
    "import cn_utils"
   ]
  },
  {
   "cell_type": "markdown",
   "id": "767d9a7a-36a5-40ba-bb76-3414959c106d",
   "metadata": {},
   "source": [
    "# Data"
   ]
  },
  {
   "cell_type": "code",
   "execution_count": 4,
   "id": "3478f7af-fb82-4f3c-af55-31c0805a7126",
   "metadata": {},
   "outputs": [
    {
     "name": "stderr",
     "output_type": "stream",
     "text": [
      "Retrieving 1055 from analyses API endpoint...\n",
      "retrieved 500 out of 1055...\n",
      "retrieved 1000 out of 1055...\n",
      "retrieved 1055 out of 1055...\n"
     ]
    }
   ],
   "source": [
    "isabl_cohort = 'HCMI GDAN AWG'\n",
    "cn_data = shahlabdata.wgs.get_cohort_cn(isabl_cohort, most_recent=True)"
   ]
  },
  {
   "cell_type": "code",
   "execution_count": 25,
   "id": "f53ad4c8-cadc-4a03-abc1-b064f526f9f4",
   "metadata": {},
   "outputs": [],
   "source": [
    "df = cn_data[['isabl_sample_id']]"
   ]
  },
  {
   "cell_type": "code",
   "execution_count": 26,
   "id": "aa4e0ebe-189c-4c1f-abcd-2cd746994b8c",
   "metadata": {},
   "outputs": [
    {
     "name": "stderr",
     "output_type": "stream",
     "text": [
      "/juno/work/shah/users/chois7/envs/p37/lib/python3.7/site-packages/ipykernel_launcher.py:1: SettingWithCopyWarning: \n",
      "A value is trying to be set on a copy of a slice from a DataFrame.\n",
      "Try using .loc[row_indexer,col_indexer] = value instead\n",
      "\n",
      "See the caveats in the documentation: https://pandas.pydata.org/pandas-docs/stable/user_guide/indexing.html#returning-a-view-versus-a-copy\n",
      "  \"\"\"Entry point for launching an IPython kernel.\n"
     ]
    }
   ],
   "source": [
    "df['project'] = [s.split('-')[1] for s in df['isabl_sample_id']]"
   ]
  },
  {
   "cell_type": "code",
   "execution_count": 27,
   "id": "4c34f09b-7ea6-4329-b29d-3163376e78ab",
   "metadata": {},
   "outputs": [],
   "source": [
    "df = df.drop_duplicates().reset_index(drop=True)"
   ]
  },
  {
   "cell_type": "code",
   "execution_count": 30,
   "id": "ca4ae29a-4812-40a4-b252-bd3fa45f1482",
   "metadata": {},
   "outputs": [
    {
     "data": {
      "text/html": [
       "<div>\n",
       "<style scoped>\n",
       "    .dataframe tbody tr th:only-of-type {\n",
       "        vertical-align: middle;\n",
       "    }\n",
       "\n",
       "    .dataframe tbody tr th {\n",
       "        vertical-align: top;\n",
       "    }\n",
       "\n",
       "    .dataframe thead th {\n",
       "        text-align: right;\n",
       "    }\n",
       "</style>\n",
       "<table border=\"1\" class=\"dataframe\">\n",
       "  <thead>\n",
       "    <tr style=\"text-align: right;\">\n",
       "      <th></th>\n",
       "      <th>isabl_sample_id</th>\n",
       "      <th>project</th>\n",
       "    </tr>\n",
       "  </thead>\n",
       "  <tbody>\n",
       "    <tr>\n",
       "      <th>0</th>\n",
       "      <td>HCM-WCMC-0673-C56-01A</td>\n",
       "      <td>WCMC</td>\n",
       "    </tr>\n",
       "    <tr>\n",
       "      <th>1</th>\n",
       "      <td>HCM-WCMC-0673-C56-05A</td>\n",
       "      <td>WCMC</td>\n",
       "    </tr>\n",
       "    <tr>\n",
       "      <th>2</th>\n",
       "      <td>HCM-WCMC-0673-C56-85A</td>\n",
       "      <td>WCMC</td>\n",
       "    </tr>\n",
       "    <tr>\n",
       "      <th>3</th>\n",
       "      <td>HCM-WCMC-0673-C56-85B</td>\n",
       "      <td>WCMC</td>\n",
       "    </tr>\n",
       "    <tr>\n",
       "      <th>4</th>\n",
       "      <td>HCM-BROD-0476-C56-85M</td>\n",
       "      <td>BROD</td>\n",
       "    </tr>\n",
       "  </tbody>\n",
       "</table>\n",
       "</div>"
      ],
      "text/plain": [
       "         isabl_sample_id project\n",
       "0  HCM-WCMC-0673-C56-01A    WCMC\n",
       "1  HCM-WCMC-0673-C56-05A    WCMC\n",
       "2  HCM-WCMC-0673-C56-85A    WCMC\n",
       "3  HCM-WCMC-0673-C56-85B    WCMC\n",
       "4  HCM-BROD-0476-C56-85M    BROD"
      ]
     },
     "execution_count": 30,
     "metadata": {},
     "output_type": "execute_result"
    }
   ],
   "source": [
    "df.head()"
   ]
  },
  {
   "cell_type": "code",
   "execution_count": 29,
   "id": "b3e3261e-d68a-4cb3-8f83-1beb5eff8dbe",
   "metadata": {},
   "outputs": [],
   "source": [
    "tumor_type_path = '/juno/work/shah/users/chois7/tickets/hcmi/metadata/tumor_types.tsv'\n",
    "df.to_csv(tumor_type_path, sep='\\t', index=False)"
   ]
  },
  {
   "cell_type": "markdown",
   "id": "98e77c3d-53a5-4dba-87ba-4f417753ff9f",
   "metadata": {},
   "source": [
    "# Run"
   ]
  },
  {
   "cell_type": "code",
   "execution_count": null,
   "id": "7139c719-a103-44bf-ba86-c6d3e8d9e3b2",
   "metadata": {},
   "outputs": [],
   "source": [
    "update_regions = False\n",
    "logging.basicConfig(level = logging.DEBUG)\n",
    "# gene_list_path = '/juno/work/shah/users/chois7/tickets/cohort-cn-qc/resources/gene_list.txt'\n",
    "gene_list_path = '/juno/work/shah/users/chois7/tickets/cohort-cn-qc/resources/gene_list.simple.txt'\n",
    "# for cohorts in (['SPECTRUM-DLP'], ['SPECTRUM'], ['Metacohort'], ['APOLLO-H'], ['SPECTRUM', 'Metacohort', 'APOLLO-H']):\n",
    "# for cohorts in (['APOLLO-H'], ['SPECTRUM', 'Metacohort', 'APOLLO-H']):\n",
    "#for cohorts in (['SPECTRUM-DLP'], ['SPECTRUM'], ['Metacohort']):"
   ]
  },
  {
   "cell_type": "code",
   "execution_count": null,
   "id": "02f64194-3f08-4f70-95f6-5d9c530e879d",
   "metadata": {},
   "outputs": [],
   "source": [
    "for cohorts in (['HCMI'],):\n",
    "    cn = CopyNumberChangeData(gene_list=gene_list_path, cohorts=cohorts, update_regions=update_regions)\n",
    "    plot_peaks_troughs(cn, cn.peak_params)\n",
    "    plot_merged_peaks_troughs(cn.peaks_troughs)\n",
    "    # break\n",
    "\n",
    "    cohort_symbol = '_'.join(cn.cohorts)\n",
    "    # break\n",
    "    for signature in cn.signature_counts:\n",
    "        logging.info(f'processing cohorts:{cohorts} tumor-code:{signature}')\n",
    "        if cn.signature_counts[signature] > 3:\n",
    "            logging.info(f'plotting cohorts:{cohorts} tumor-code:{signature}')\n",
    "            cn.plot_pan_chrom_cn(group=signature, out_path=f'hcmi/results/{cohort_symbol}.{signature}.pdf')\n",
    "            cn.plot_per_chrom_cn(group=signature, out_path=f'hcmi/results/{cohort_symbol}.{signature}.per-chrom.pdf')\n",
    "\n",
    "    if not update_regions:\n",
    "        cn.gene_ranges.update(cn.peaks_troughs)\n",
    "    gene_cn = cn.get_gene_cn_counts()\n",
    "    results = evaluate_enrichment(cn.signatures, cn.signature_counts, cn.gene_ranges.keys(),\n",
    "            cn.sample_counts, padj_cutoff=0.1)\n",
    "    results.to_csv(f'hcmi/results/enrichment/enrichment.{cohort_symbol}.tsv', sep='\\t', index=False)"
   ]
  }
 ],
 "metadata": {
  "kernelspec": {
   "display_name": "Python [conda env:chois7-p37]",
   "language": "python",
   "name": "conda-env-chois7-p37-py"
  },
  "language_info": {
   "codemirror_mode": {
    "name": "ipython",
    "version": 3
   },
   "file_extension": ".py",
   "mimetype": "text/x-python",
   "name": "python",
   "nbconvert_exporter": "python",
   "pygments_lexer": "ipython3",
   "version": "3.7.16"
  }
 },
 "nbformat": 4,
 "nbformat_minor": 5
}
